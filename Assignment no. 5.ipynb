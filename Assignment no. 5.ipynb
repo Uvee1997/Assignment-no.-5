{
 "cells": [
  {
   "cell_type": "markdown",
   "id": "b0d567bd",
   "metadata": {},
   "source": [
    "1) What does an empty dictionary's code look like?\n",
    "\n",
    "{}"
   ]
  },
  {
   "cell_type": "markdown",
   "id": "f73c3e4f",
   "metadata": {},
   "source": [
    "2) What is the value of a dictionary value with the key 'foo' and the value is 42?\n",
    "\n",
    "{'foo': 42}"
   ]
  },
  {
   "cell_type": "markdown",
   "id": "e8abf248",
   "metadata": {},
   "source": [
    "3) What is the most significant distinction between a dictionary & list?\n",
    "\n",
    "i) Items stored in the dictionary are in 'key & value' format, while in list it stored in only in value format\n",
    "ii) Items stored in dictionary are unorderd while items stored in list are orderd. "
   ]
  },
  {
   "cell_type": "markdown",
   "id": "77de2f0f",
   "metadata": {},
   "source": [
    "4) What happens if you try to access spam['foo'] if spam is {'bar':100}?\n",
    "\n",
    "Error"
   ]
  },
  {
   "cell_type": "markdown",
   "id": "69afbee1",
   "metadata": {},
   "source": [
    "5) If a dictionary is stored in spam, what is the difference between the expressions 'cat' in spam and 'cat' in spam.key()?\n",
    "\n",
    "There is no such difference between 2 experessions."
   ]
  },
  {
   "cell_type": "markdown",
   "id": "6f2af894",
   "metadata": {},
   "source": [
    "6) If a dictionary is stored in spam, what is the difference between the expressions 'cat' in spam and 'cat' in spam.values()?\n",
    "\n",
    "cat' in spam checks whether there is a 'cat' key in the dictionary, while 'cat' in spam.values() checks whether there is a value 'cat' for one of the keys in spam. Basically spam.values() gives answer of key operator in dictionary."
   ]
  },
  {
   "cell_type": "markdown",
   "id": "04138372",
   "metadata": {},
   "source": [
    "7) What is shortcut for following code?\n",
    "     if 'color' not spam:\n",
    "     spam['color'] = 'black'\n",
    "    \n",
    "spam.setdefault('color','black')    "
   ]
  },
  {
   "cell_type": "markdown",
   "id": "19940e47",
   "metadata": {},
   "source": [
    "8) How do you \"pretty print\" dictionary values using which module and function?\n",
    "\n",
    "pprint.pprint()"
   ]
  }
 ],
 "metadata": {
  "kernelspec": {
   "display_name": "Python 3 (ipykernel)",
   "language": "python",
   "name": "python3"
  },
  "language_info": {
   "codemirror_mode": {
    "name": "ipython",
    "version": 3
   },
   "file_extension": ".py",
   "mimetype": "text/x-python",
   "name": "python",
   "nbconvert_exporter": "python",
   "pygments_lexer": "ipython3",
   "version": "3.9.7"
  }
 },
 "nbformat": 4,
 "nbformat_minor": 5
}
